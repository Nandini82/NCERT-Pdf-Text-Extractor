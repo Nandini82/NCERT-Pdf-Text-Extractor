{
 "cells": [
  {
   "cell_type": "code",
   "execution_count": 1,
   "metadata": {},
   "outputs": [
    {
     "name": "stdout",
     "output_type": "stream",
     "text": [
      "Requirement already satisfied: PyMuPDF in c:\\users\\lenovo\\anaconda3\\lib\\site-packages (1.19.6)\n"
     ]
    },
    {
     "name": "stderr",
     "output_type": "stream",
     "text": [
      "[nltk_data] Downloading package stopwords to\n",
      "[nltk_data]     C:\\Users\\Lenovo\\AppData\\Roaming\\nltk_data...\n",
      "[nltk_data]   Package stopwords is already up-to-date!\n",
      "[nltk_data] Downloading package punkt to\n",
      "[nltk_data]     C:\\Users\\Lenovo\\AppData\\Roaming\\nltk_data...\n",
      "[nltk_data]   Package punkt is already up-to-date!\n",
      "[nltk_data] Downloading package wordnet to\n",
      "[nltk_data]     C:\\Users\\Lenovo\\AppData\\Roaming\\nltk_data...\n",
      "[nltk_data]   Package wordnet is already up-to-date!\n"
     ]
    }
   ],
   "source": [
    "!pip install PyMuPDF\n",
    "import fitz\n",
    "import pandas as pd\n",
    "import re\n",
    "import nltk\n",
    "nltk.download('stopwords')\n",
    "nltk.download('punkt')\n",
    "nltk.download('wordnet')\n",
    "from nltk.corpus import stopwords\n",
    "sw_nltk = stopwords.words('english')"
   ]
  },
  {
   "cell_type": "code",
   "execution_count": 6,
   "metadata": {},
   "outputs": [
    {
     "data": {
      "text/plain": [
       "1"
      ]
     },
     "execution_count": 6,
     "metadata": {},
     "output_type": "execute_result"
    }
   ],
   "source": [
    "pdf1=\"Ncert_book.pdf\"\n",
    "reader=fitz.open(pdf1)\n",
    "num=reader.page_count\n",
    "df=pd.DataFrame()\n",
    "num"
   ]
  },
  {
   "attachments": {},
   "cell_type": "markdown",
   "metadata": {},
   "source": [
    "Preprocessing the data"
   ]
  },
  {
   "cell_type": "code",
   "execution_count": 7,
   "metadata": {},
   "outputs": [],
   "source": [
    "import numpy as np\n",
    "import string \n",
    "for i in range(0,num):\n",
    "    text=reader[i].get_text() \n",
    "    text=text.lower()\n",
    "    PUNCT_TO_REMOVE = string.punctuation \n",
    "    text=text.translate(str.maketrans('', '', PUNCT_TO_REMOVE))\n",
    "    text=text.encode(\"ascii\",errors=\"ignore\").decode()\n",
    "    text = ''.join([i for i in text if not i.isdigit()])\n",
    "    text = \" \".join(text.split())\n",
    "    texts=[word for word in text.split() if word.lower() not in sw_nltk]\n",
    "    new_text = \" \".join(texts)\n",
    "    newtext=' '.join( [w for w in new_text.split() if len(w)>1] )\n",
    "    text=newtext.split(\" \")    \n",
    "    count=7\n",
    "    l=[]\n",
    "    for j in text:\n",
    "        if(count>0):\n",
    "            l.append(j)\n",
    "            count=count-1\n",
    "        elif(count==0):\n",
    "            l=(\" \").join(l)\n",
    "            new_df=pd.DataFrame({'Text':[l]})\n",
    "            #new_df['page no.']=i+1\n",
    "            df=pd.concat([df,new_df])\n",
    "            count=7\n",
    "            l=[]    "
   ]
  },
  {
   "cell_type": "code",
   "execution_count": null,
   "metadata": {},
   "outputs": [],
   "source": [
    "df.head()"
   ]
  },
  {
   "attachments": {},
   "cell_type": "markdown",
   "metadata": {},
   "source": [
    "Splitting the text in 7 words (it is related to my requirement you can change the count according to your need)"
   ]
  },
  {
   "cell_type": "code",
   "execution_count": 36,
   "metadata": {
    "id": "mmum2TUS0vAk"
   },
   "outputs": [],
   "source": [
    "for i in range(0,num):\n",
    "  lis=reader[i].get_text().replace('\\n',\" \")\n",
    "  lis = re.sub(' +', ' ',lis)\n",
    "  lis=lis.split(\" \")\n",
    "  count=7\n",
    "  l=[]\n",
    "  for j in lis:\n",
    "    if(count>0):\n",
    "      l.append(j)\n",
    "      count=count-1\n",
    "    elif(count==0):\n",
    "      l=(\" \").join(l)\n",
    "      new_df=pd.DataFrame({'Text':[l]})\n",
    "      new_df['page no.']=i\n",
    "      df=pd.concat([df,new_df])\n",
    "      count=7\n",
    "      l=[]\n",
    "df[\"Book Name\"]=\"Ncert_Book\""
   ]
  },
  {
   "cell_type": "code",
   "execution_count": null,
   "metadata": {},
   "outputs": [],
   "source": [
    "print(df)\n",
    "df.to_csv(\"Ncert_Book.csv\") "
   ]
  }
 ],
 "metadata": {
  "colab": {
   "collapsed_sections": [],
   "name": "SIH_pdf_read_junk_clear.ipynb",
   "provenance": []
  },
  "kernelspec": {
   "display_name": "Python 3",
   "language": "python",
   "name": "python3"
  },
  "language_info": {
   "codemirror_mode": {
    "name": "ipython",
    "version": 3
   },
   "file_extension": ".py",
   "mimetype": "text/x-python",
   "name": "python",
   "nbconvert_exporter": "python",
   "pygments_lexer": "ipython3",
   "version": "3.8.8"
  }
 },
 "nbformat": 4,
 "nbformat_minor": 1
}
